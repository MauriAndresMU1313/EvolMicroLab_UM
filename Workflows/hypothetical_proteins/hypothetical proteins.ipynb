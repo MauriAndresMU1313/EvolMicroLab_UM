{
 "cells": [
  {
   "cell_type": "markdown",
   "id": "5206e1ef",
   "metadata": {},
   "source": [
    "# Hypothetical proteins"
   ]
  },
  {
   "cell_type": "code",
   "execution_count": 1,
   "id": "fb721583",
   "metadata": {},
   "outputs": [],
   "source": [
    "from pathlib import Path\n",
    "from collections import defaultdict\n",
    "import pickle"
   ]
  },
  {
   "cell_type": "code",
   "execution_count": 2,
   "id": "d147a7d5",
   "metadata": {},
   "outputs": [],
   "source": [
    "from Bio import AlignIO, SeqIO\n",
    "from Bio.SeqIO.FastaIO import SimpleFastaParser "
   ]
  },
  {
   "cell_type": "code",
   "execution_count": 7,
   "id": "aad824d3",
   "metadata": {},
   "outputs": [
    {
     "name": "stdout",
     "output_type": "stream",
     "text": [
      "\u001b[0m\u001b[01;32mbin3c.174.contigs.faa\u001b[0m*\n",
      "\u001b[01;32mbin3c.184.contigs.faa\u001b[0m*\n",
      "\u001b[01;32mbin3c.225.contigs.faa\u001b[0m*\n",
      "\u001b[01;32mDGYMR06203__metabat2_low_PE.047.contigs.faa\u001b[0m*\n",
      "\u001b[01;32mE4_54_1-contigs.faa\u001b[0m*\n",
      "\u001b[01;32mF157a_European_Toad__metabat2_high_PE.005.contigs.faa\u001b[0m*\n",
      "\u001b[01;32mGCA_000436395.1_MGS154_genomic.faa\u001b[0m*\n",
      "\u001b[01;32mGCA_000437075.1_MGS344_genomic.faa\u001b[0m*\n",
      "\u001b[01;32mGCA_001917295.1_ASM191729v1_genomic.faa\u001b[0m*\n",
      "\u001b[01;32mGCA_002362435.1_ASM236243v1_genomic.faa\u001b[0m*\n"
     ]
    }
   ],
   "source": [
    "ls $faa_dir | head"
   ]
  },
  {
   "cell_type": "markdown",
   "id": "67568d6d",
   "metadata": {},
   "source": [
    "## Create an index for all the proteins of the akkermansia dataset\n",
    "\n",
    "This is recommended if working with big datasets (in this case isn't that big). Indexes are way faster to operate with compared to parsing hundreds of ascii files."
   ]
  },
  {
   "cell_type": "code",
   "execution_count": 11,
   "id": "a6f20e6f",
   "metadata": {},
   "outputs": [
    {
     "data": {
      "text/plain": [
       "472482"
      ]
     },
     "execution_count": 11,
     "metadata": {},
     "output_type": "execute_result"
    }
   ],
   "source": [
    "files = list(faa_dir.glob('*.faa'))\n",
    "faas_idx = SeqIO.index_db(\"output_dir/faas.idx\", files, \"fasta\")\n",
    "len(faas_idx.values())"
   ]
  },
  {
   "cell_type": "markdown",
   "id": "4eac6cad",
   "metadata": {},
   "source": [
    "## How many *hypothetical proteins* according to `prokka`?"
   ]
  },
  {
   "cell_type": "code",
   "execution_count": 183,
   "id": "a6db1cf5",
   "metadata": {},
   "outputs": [
    {
     "name": "stdout",
     "output_type": "stream",
     "text": [
      "472481 263307\n"
     ]
    }
   ],
   "source": [
    "# Generator\n",
    "records = (faas_idx[name] for name in faas_idx)\n",
    "rec_hypoth = []\n",
    "for i, rec in enumerate(records):\n",
    "    if ' '.join(rec.description.split(' ')[1:]) == 'hypothetical protein':\n",
    "        rec_hypoth.append(rec)\n",
    "print(i, len(rec_hypoth))"
   ]
  },
  {
   "cell_type": "markdown",
   "id": "c34345e6",
   "metadata": {},
   "source": [
    "## Write all the sequences annotated as *hypothetical proteins* to a multi-fasta file"
   ]
  },
  {
   "cell_type": "code",
   "execution_count": 60,
   "id": "450ba735",
   "metadata": {},
   "outputs": [],
   "source": [
    "with open('hypothetical_proteins.fa', 'w') as fh:\n",
    "    for seq in rec_hypoth:\n",
    "        print(f'>{seq.description}\\n{seq.seq}', file=fh)"
   ]
  },
  {
   "cell_type": "markdown",
   "id": "2a17c737",
   "metadata": {},
   "source": [
    "Check the length of the written file"
   ]
  },
  {
   "cell_type": "code",
   "execution_count": 69,
   "id": "ded1caec",
   "metadata": {},
   "outputs": [
    {
     "name": "stdout",
     "output_type": "stream",
     "text": [
      "263307\n",
      "263307\n"
     ]
    }
   ],
   "source": [
    "print(len(rec_hypoth))\n",
    "! rg -c '^>.+hypothetical' hypothetical_proteins.fa"
   ]
  }
 ],
 "metadata": {
  "kernelspec": {
   "display_name": "Python 3",
   "language": "python",
   "name": "python3"
  },
  "language_info": {
   "codemirror_mode": {
    "name": "ipython",
    "version": 3
   },
   "file_extension": ".py",
   "mimetype": "text/x-python",
   "name": "python",
   "nbconvert_exporter": "python",
   "pygments_lexer": "ipython3",
   "version": "3.8.3"
  }
 },
 "nbformat": 4,
 "nbformat_minor": 5
}
