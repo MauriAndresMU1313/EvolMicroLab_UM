{
 "cells": [
  {
   "cell_type": "code",
   "execution_count": 2,
   "id": "bb591f90",
   "metadata": {},
   "outputs": [],
   "source": [
    "import pandas as pd\n",
    "from pathlib import Path\n",
    "from collections import defaultdict\n",
    "import pickle"
   ]
  },
  {
   "cell_type": "markdown",
   "id": "70ea55ab",
   "metadata": {},
   "source": [
    "**For the original files, check the folder `/mnt/DATA/jmaturana/Hypothetical_proteins/` @coyhaique**:\n",
    "\n",
    "- `akker_hypothetical.emapper.annotations` : `emapper` results using as input all the hypothetical proteins\n",
    "- `akk_hypo_clu90-85.emapper.annotations` : `emapper` results using as input the cluster representatives from hypothetical proteins\n",
    "- `akk_hypo_clu.tsv` : produced by `mmseqs createtsv`\n",
    "-  `akk_hyp_clu90_85_rep.fasta` : produced by `mmseqs convert2fasta`\n"
   ]
  },
  {
   "cell_type": "markdown",
   "id": "8209db0a",
   "metadata": {},
   "source": [
    "# Annotating genes\n",
    "\n",
    "**Prokka** was used as the first software to predict and functionally annotate genes from the akkermansia dataset (201 genomes). Prokka predicted a total of **472481** proteins, of which  **263307 (55%) were annotated as *hypothetical protein***.  \n",
    "\n",
    "Two sets of proteins were produced, depending on wether a protein is a *hypothetical protein* or not:"
   ]
  },
  {
   "cell_type": "code",
   "execution_count": 11,
   "id": "233294fa",
   "metadata": {},
   "outputs": [
    {
     "data": {
      "text/plain": [
       "472482"
      ]
     },
     "execution_count": 11,
     "metadata": {},
     "output_type": "execute_result"
    }
   ],
   "source": [
    "faa_dir = Path(\"where/your/faas/are\")\n",
    "files = list(faa_dir.glob('*.faa'))\n",
    "# Create an index with all the proteins sequences, needed to be built only once\n",
    "faas_idx = SeqIO.index_db(\"akk_faas.idx\", files, \"fasta\")\n",
    "# How many genes in total?\n",
    "len(faas_idx.values())"
   ]
  },
  {
   "cell_type": "code",
   "execution_count": 194,
   "id": "68251dcd",
   "metadata": {},
   "outputs": [
    {
     "name": "stdout",
     "output_type": "stream",
     "text": [
      "472481 263307 209175\n"
     ]
    }
   ],
   "source": [
    "## Create two sets of proteins. Each set has sequence records with all the info\n",
    "#Generator\n",
    "records = (faas_idx[name] for name in faas_idx)\n",
    "rec_hypoth = []\n",
    "rec_annot = []\n",
    "for i, rec in enumerate(records):\n",
    "    if ' '.join(rec.description.split(' ')[1:]) == 'hypothetical protein':\n",
    "        rec_hypoth.append(rec)\n",
    "    else:\n",
    "        rec_annot.append(rec)\n",
    "\n",
    "print(i, len(rec_hypoth), len(rec_annot))"
   ]
  },
  {
   "cell_type": "code",
   "execution_count": 196,
   "id": "5ae5be8a",
   "metadata": {},
   "outputs": [],
   "source": [
    "## Write the two sets of proteins into two multi-fasta files\n",
    "with open('akk_hypothetical_proteins.fa', 'w') as fh:\n",
    "    for seq in rec_hypoth:\n",
    "        print(f'>{seq.description}\\n{seq.seq}', file=fh)\n",
    "with open('akk_annotated_proteins.fa', 'w') as fh:\n",
    "    for seq in rec_annot:\n",
    "        print(f'>{seq.description}\\n{seq.seq}', file=fh)"
   ]
  },
  {
   "cell_type": "markdown",
   "id": "d42c4792",
   "metadata": {},
   "source": [
    "**Eggnog-mapper**, `emapper.py`, was the second program used to functionally annotate these predicted proteins.\n",
    "\n",
    "```sh\n",
    "emapper.py --cpu 16 -i {1} --output {2} --output_dir $out_dir \\\n",
    " -m diamond --sensmode very-sensitive --tax_scope 203494,74201,2 \\\n",
    "  --go_evidence all --target_orthologs all --dbmem --md5 --override\n",
    " ```\n",
    "`--sensmode very-sensitive` was used to try to maximize the amount of annotated proteins."
   ]
  },
  {
   "cell_type": "markdown",
   "id": "4f53936f",
   "metadata": {},
   "source": [
    "\n",
    "**Eggnog-mapper** reports all the genes that have at least one type of annotation (any type). The more permissive annotation is usually/always Pfam (acts as a \"lower barrier\"). Given that the information of Pfam is too general to map directly to a specific function, many annotations aren't that useful without further investigation.\n"
   ]
  },
  {
   "cell_type": "code",
   "execution_count": 22,
   "id": "a90c05af",
   "metadata": {},
   "outputs": [],
   "source": [
    "def eggannot_to_df(annot_f):\n",
    "    '''\n",
    "    From the eggnog annotation file (`emapper.py`) to a dataframe\n",
    "    (emapper v2.1.6)\n",
    "    '''\n",
    "    import pandas as pd\n",
    "# ParserWarning: Falling back to the 'python' engine because the 'c' engine does \n",
    "# not support skipfooter; you can avoid this warning by specifying engine='python'.\n",
    "    annot_df =  pd.read_csv(annot_f, sep='\\t', skiprows=4, skipfooter=3,  na_values='-', engine='python')\n",
    "    annot_df.rename({'#query':'query'}, axis=1, inplace=True)\n",
    "    return annot_df"
   ]
  },
  {
   "cell_type": "code",
   "execution_count": 157,
   "id": "a6657cbb",
   "metadata": {},
   "outputs": [
    {
     "name": "stdout",
     "output_type": "stream",
     "text": [
      "<class 'pandas.core.frame.DataFrame'>\n",
      "RangeIndex: 180432 entries, 0 to 180431\n",
      "Data columns (total 22 columns):\n",
      " #   Column          Non-Null Count   Dtype  \n",
      "---  ------          --------------   -----  \n",
      " 0   query           180432 non-null  object \n",
      " 1   seed_ortholog   180432 non-null  object \n",
      " 2   evalue          180432 non-null  float64\n",
      " 3   score           180432 non-null  float64\n",
      " 4   eggNOG_OGs      180432 non-null  object \n",
      " 5   max_annot_lvl   180432 non-null  object \n",
      " 6   COG_category    150580 non-null  object \n",
      " 7   Description     150580 non-null  object \n",
      " 8   Preferred_name  18911 non-null   object \n",
      " 9   GOs             8197 non-null    object \n",
      " 10  EC              24362 non-null   object \n",
      " 11  KEGG_ko         62071 non-null   object \n",
      " 12  KEGG_Pathway    27155 non-null   object \n",
      " 13  KEGG_Module     16760 non-null   object \n",
      " 14  KEGG_Reaction   13423 non-null   object \n",
      " 15  KEGG_rclass     12658 non-null   object \n",
      " 16  BRITE           62071 non-null   object \n",
      " 17  KEGG_TC         14311 non-null   object \n",
      " 18  CAZy            6101 non-null    object \n",
      " 19  BiGG_Reaction   422 non-null     object \n",
      " 20  PFAMs           144009 non-null  object \n",
      " 21  md5             180432 non-null  object \n",
      "dtypes: float64(2), object(20)\n",
      "memory usage: 30.3+ MB\n"
     ]
    },
    {
     "data": {
      "text/html": [
       "<div>\n",
       "<style scoped>\n",
       "    .dataframe tbody tr th:only-of-type {\n",
       "        vertical-align: middle;\n",
       "    }\n",
       "\n",
       "    .dataframe tbody tr th {\n",
       "        vertical-align: top;\n",
       "    }\n",
       "\n",
       "    .dataframe thead th {\n",
       "        text-align: right;\n",
       "    }\n",
       "</style>\n",
       "<table border=\"1\" class=\"dataframe\">\n",
       "  <thead>\n",
       "    <tr style=\"text-align: right;\">\n",
       "      <th></th>\n",
       "      <th>query</th>\n",
       "      <th>seed_ortholog</th>\n",
       "      <th>evalue</th>\n",
       "      <th>score</th>\n",
       "      <th>eggNOG_OGs</th>\n",
       "      <th>max_annot_lvl</th>\n",
       "      <th>COG_category</th>\n",
       "      <th>Description</th>\n",
       "      <th>Preferred_name</th>\n",
       "      <th>GOs</th>\n",
       "      <th>EC</th>\n",
       "      <th>KEGG_ko</th>\n",
       "      <th>KEGG_Pathway</th>\n",
       "      <th>KEGG_Module</th>\n",
       "      <th>KEGG_Reaction</th>\n",
       "      <th>KEGG_rclass</th>\n",
       "      <th>BRITE</th>\n",
       "      <th>KEGG_TC</th>\n",
       "      <th>CAZy</th>\n",
       "      <th>BiGG_Reaction</th>\n",
       "      <th>PFAMs</th>\n",
       "      <th>md5</th>\n",
       "    </tr>\n",
       "  </thead>\n",
       "  <tbody>\n",
       "    <tr>\n",
       "      <th>0</th>\n",
       "      <td>IMCPJJDB_00001</td>\n",
       "      <td>1396141.BATP01000047_gene3984</td>\n",
       "      <td>2.270000e-04</td>\n",
       "      <td>55.5</td>\n",
       "      <td>COG3210@1|root,COG4625@1|root,COG3210@2|Bacteria,COG4625@2|Bacteria</td>\n",
       "      <td>2|Bacteria</td>\n",
       "      <td>T</td>\n",
       "      <td>pathogenesis</td>\n",
       "      <td>NaN</td>\n",
       "      <td>NaN</td>\n",
       "      <td>NaN</td>\n",
       "      <td>NaN</td>\n",
       "      <td>NaN</td>\n",
       "      <td>NaN</td>\n",
       "      <td>NaN</td>\n",
       "      <td>NaN</td>\n",
       "      <td>NaN</td>\n",
       "      <td>NaN</td>\n",
       "      <td>NaN</td>\n",
       "      <td>NaN</td>\n",
       "      <td>PATR</td>\n",
       "      <td>43a049a3d0554a052268595dace7e340</td>\n",
       "    </tr>\n",
       "    <tr>\n",
       "      <th>1</th>\n",
       "      <td>IMCPJJDB_00002</td>\n",
       "      <td>349741.Amuc_0142</td>\n",
       "      <td>4.470000e-52</td>\n",
       "      <td>167.0</td>\n",
       "      <td>COG3169@1|root,COG3169@2|Bacteria,46T5W@74201|Verrucomicrobia,2IUI9@203494|Verrucomicrobiae</td>\n",
       "      <td>203494|Verrucomicrobiae</td>\n",
       "      <td>S</td>\n",
       "      <td>Putative member of DMT superfamily (DUF486)</td>\n",
       "      <td>NaN</td>\n",
       "      <td>NaN</td>\n",
       "      <td>NaN</td>\n",
       "      <td>ko:K09922</td>\n",
       "      <td>NaN</td>\n",
       "      <td>NaN</td>\n",
       "      <td>NaN</td>\n",
       "      <td>NaN</td>\n",
       "      <td>ko00000</td>\n",
       "      <td>NaN</td>\n",
       "      <td>NaN</td>\n",
       "      <td>NaN</td>\n",
       "      <td>DMT_6</td>\n",
       "      <td>2eb9da532c1846443a3d69d11296e378</td>\n",
       "    </tr>\n",
       "    <tr>\n",
       "      <th>2</th>\n",
       "      <td>IMCPJJDB_00003</td>\n",
       "      <td>349741.Amuc_0473</td>\n",
       "      <td>3.050000e-13</td>\n",
       "      <td>77.0</td>\n",
       "      <td>29SKQ@1|root,30DS1@2|Bacteria,46XQW@74201|Verrucomicrobia,2IWE1@203494|Verrucomicrobiae</td>\n",
       "      <td>203494|Verrucomicrobiae</td>\n",
       "      <td>S</td>\n",
       "      <td>Aspartyl protease</td>\n",
       "      <td>NaN</td>\n",
       "      <td>NaN</td>\n",
       "      <td>NaN</td>\n",
       "      <td>NaN</td>\n",
       "      <td>NaN</td>\n",
       "      <td>NaN</td>\n",
       "      <td>NaN</td>\n",
       "      <td>NaN</td>\n",
       "      <td>NaN</td>\n",
       "      <td>NaN</td>\n",
       "      <td>NaN</td>\n",
       "      <td>NaN</td>\n",
       "      <td>Asp_protease_2</td>\n",
       "      <td>07e09a49b55be6707572e1ad485448d6</td>\n",
       "    </tr>\n",
       "  </tbody>\n",
       "</table>\n",
       "</div>"
      ],
      "text/plain": [
       "            query                  seed_ortholog        evalue  score  \\\n",
       "0  IMCPJJDB_00001  1396141.BATP01000047_gene3984  2.270000e-04   55.5   \n",
       "1  IMCPJJDB_00002               349741.Amuc_0142  4.470000e-52  167.0   \n",
       "2  IMCPJJDB_00003               349741.Amuc_0473  3.050000e-13   77.0   \n",
       "\n",
       "                                                                                    eggNOG_OGs  \\\n",
       "0                          COG3210@1|root,COG4625@1|root,COG3210@2|Bacteria,COG4625@2|Bacteria   \n",
       "1  COG3169@1|root,COG3169@2|Bacteria,46T5W@74201|Verrucomicrobia,2IUI9@203494|Verrucomicrobiae   \n",
       "2      29SKQ@1|root,30DS1@2|Bacteria,46XQW@74201|Verrucomicrobia,2IWE1@203494|Verrucomicrobiae   \n",
       "\n",
       "             max_annot_lvl COG_category  \\\n",
       "0               2|Bacteria            T   \n",
       "1  203494|Verrucomicrobiae            S   \n",
       "2  203494|Verrucomicrobiae            S   \n",
       "\n",
       "                                   Description Preferred_name  GOs   EC  \\\n",
       "0                                 pathogenesis            NaN  NaN  NaN   \n",
       "1  Putative member of DMT superfamily (DUF486)            NaN  NaN  NaN   \n",
       "2                            Aspartyl protease            NaN  NaN  NaN   \n",
       "\n",
       "     KEGG_ko KEGG_Pathway KEGG_Module KEGG_Reaction KEGG_rclass    BRITE  \\\n",
       "0        NaN          NaN         NaN           NaN         NaN      NaN   \n",
       "1  ko:K09922          NaN         NaN           NaN         NaN  ko00000   \n",
       "2        NaN          NaN         NaN           NaN         NaN      NaN   \n",
       "\n",
       "  KEGG_TC CAZy BiGG_Reaction           PFAMs                               md5  \n",
       "0     NaN  NaN           NaN            PATR  43a049a3d0554a052268595dace7e340  \n",
       "1     NaN  NaN           NaN           DMT_6  2eb9da532c1846443a3d69d11296e378  \n",
       "2     NaN  NaN           NaN  Asp_protease_2  07e09a49b55be6707572e1ad485448d6  "
      ]
     },
     "execution_count": 157,
     "metadata": {},
     "output_type": "execute_result"
    }
   ],
   "source": [
    "root = Path(\"WD/for/this/project\")\n",
    "df = eggannot_to_df(root.joinpath(\"akker_hypothetical.emapper.annotations\"))\n",
    "df.info()\n",
    "df.head(3)"
   ]
  },
  {
   "cell_type": "markdown",
   "id": "0e378856",
   "metadata": {},
   "source": [
    "To get the annotations that are immediately useful, we select those which have being assigned a KEGG ortholog term, \"KO\":"
   ]
  },
  {
   "cell_type": "code",
   "execution_count": 522,
   "id": "027408b1",
   "metadata": {},
   "outputs": [],
   "source": [
    "def get_not_nan(annot_file, col_names):\n",
    "    '''\n",
    "    For each column passed (list or tuple), obtain the \"not_nan\" values\n",
    "    input: egnogg anotation file\n",
    "    col_names example: [COG_category, KEGG_ko, PFAMs]\n",
    "    '''\n",
    "    \n",
    "    df = eggannot_to_df(annot_file)\n",
    "    for col in col_names:\n",
    "        mask = df[col].notna()\n",
    "        new_df = df[mask]\n",
    "    return new_df"
   ]
  },
  {
   "cell_type": "code",
   "execution_count": 158,
   "id": "2e5997d9",
   "metadata": {},
   "outputs": [
    {
     "name": "stdout",
     "output_type": "stream",
     "text": [
      "(62071, 22)\n"
     ]
    },
    {
     "data": {
      "text/html": [
       "<div>\n",
       "<style scoped>\n",
       "    .dataframe tbody tr th:only-of-type {\n",
       "        vertical-align: middle;\n",
       "    }\n",
       "\n",
       "    .dataframe tbody tr th {\n",
       "        vertical-align: top;\n",
       "    }\n",
       "\n",
       "    .dataframe thead th {\n",
       "        text-align: right;\n",
       "    }\n",
       "</style>\n",
       "<table border=\"1\" class=\"dataframe\">\n",
       "  <thead>\n",
       "    <tr style=\"text-align: right;\">\n",
       "      <th></th>\n",
       "      <th>query</th>\n",
       "      <th>seed_ortholog</th>\n",
       "      <th>evalue</th>\n",
       "      <th>score</th>\n",
       "      <th>eggNOG_OGs</th>\n",
       "      <th>max_annot_lvl</th>\n",
       "      <th>COG_category</th>\n",
       "      <th>Description</th>\n",
       "      <th>Preferred_name</th>\n",
       "      <th>GOs</th>\n",
       "      <th>EC</th>\n",
       "      <th>KEGG_ko</th>\n",
       "      <th>KEGG_Pathway</th>\n",
       "      <th>KEGG_Module</th>\n",
       "      <th>KEGG_Reaction</th>\n",
       "      <th>KEGG_rclass</th>\n",
       "      <th>BRITE</th>\n",
       "      <th>KEGG_TC</th>\n",
       "      <th>CAZy</th>\n",
       "      <th>BiGG_Reaction</th>\n",
       "      <th>PFAMs</th>\n",
       "      <th>md5</th>\n",
       "    </tr>\n",
       "  </thead>\n",
       "  <tbody>\n",
       "    <tr>\n",
       "      <th>1</th>\n",
       "      <td>IMCPJJDB_00002</td>\n",
       "      <td>349741.Amuc_0142</td>\n",
       "      <td>4.470000e-52</td>\n",
       "      <td>167.0</td>\n",
       "      <td>COG3169@1|root,COG3169@2|Bacteria,46T5W@74201|Verrucomicrobia,2IUI9@203494|Verrucomicrobiae</td>\n",
       "      <td>203494|Verrucomicrobiae</td>\n",
       "      <td>S</td>\n",
       "      <td>Putative member of DMT superfamily (DUF486)</td>\n",
       "      <td>NaN</td>\n",
       "      <td>NaN</td>\n",
       "      <td>NaN</td>\n",
       "      <td>ko:K09922</td>\n",
       "      <td>NaN</td>\n",
       "      <td>NaN</td>\n",
       "      <td>NaN</td>\n",
       "      <td>NaN</td>\n",
       "      <td>ko00000</td>\n",
       "      <td>NaN</td>\n",
       "      <td>NaN</td>\n",
       "      <td>NaN</td>\n",
       "      <td>DMT_6</td>\n",
       "      <td>2eb9da532c1846443a3d69d11296e378</td>\n",
       "    </tr>\n",
       "    <tr>\n",
       "      <th>3</th>\n",
       "      <td>IMCPJJDB_00009</td>\n",
       "      <td>349741.Amuc_0267</td>\n",
       "      <td>1.310000e-42</td>\n",
       "      <td>146.0</td>\n",
       "      <td>COG1399@1|root,COG1399@2|Bacteria,46TBP@74201|Verrucomicrobia,2IURG@203494|Verrucomicrobiae</td>\n",
       "      <td>203494|Verrucomicrobiae</td>\n",
       "      <td>S</td>\n",
       "      <td>Uncharacterized ACR, COG1399</td>\n",
       "      <td>NaN</td>\n",
       "      <td>NaN</td>\n",
       "      <td>NaN</td>\n",
       "      <td>ko:K07040</td>\n",
       "      <td>NaN</td>\n",
       "      <td>NaN</td>\n",
       "      <td>NaN</td>\n",
       "      <td>NaN</td>\n",
       "      <td>ko00000</td>\n",
       "      <td>NaN</td>\n",
       "      <td>NaN</td>\n",
       "      <td>NaN</td>\n",
       "      <td>DUF177</td>\n",
       "      <td>3b4c8496b6004b1bef7395f4ea4447da</td>\n",
       "    </tr>\n",
       "    <tr>\n",
       "      <th>9</th>\n",
       "      <td>IMCPJJDB_00035</td>\n",
       "      <td>1410613.JNKF01000012_gene1397</td>\n",
       "      <td>4.310000e-75</td>\n",
       "      <td>241.0</td>\n",
       "      <td>COG1115@1|root,COG1115@2|Bacteria,4NDX7@976|Bacteroidetes,2FMFZ@200643|Bacteroidia</td>\n",
       "      <td>2|Bacteria</td>\n",
       "      <td>E</td>\n",
       "      <td>amino acid carrier protein</td>\n",
       "      <td>agcS</td>\n",
       "      <td>NaN</td>\n",
       "      <td>NaN</td>\n",
       "      <td>ko:K03310</td>\n",
       "      <td>NaN</td>\n",
       "      <td>NaN</td>\n",
       "      <td>NaN</td>\n",
       "      <td>NaN</td>\n",
       "      <td>ko00000</td>\n",
       "      <td>2.A.25</td>\n",
       "      <td>NaN</td>\n",
       "      <td>NaN</td>\n",
       "      <td>Na_Ala_symp</td>\n",
       "      <td>76a490aebd66fcb337dcc3121576ff68</td>\n",
       "    </tr>\n",
       "  </tbody>\n",
       "</table>\n",
       "</div>"
      ],
      "text/plain": [
       "            query                  seed_ortholog        evalue  score  \\\n",
       "1  IMCPJJDB_00002               349741.Amuc_0142  4.470000e-52  167.0   \n",
       "3  IMCPJJDB_00009               349741.Amuc_0267  1.310000e-42  146.0   \n",
       "9  IMCPJJDB_00035  1410613.JNKF01000012_gene1397  4.310000e-75  241.0   \n",
       "\n",
       "                                                                                    eggNOG_OGs  \\\n",
       "1  COG3169@1|root,COG3169@2|Bacteria,46T5W@74201|Verrucomicrobia,2IUI9@203494|Verrucomicrobiae   \n",
       "3  COG1399@1|root,COG1399@2|Bacteria,46TBP@74201|Verrucomicrobia,2IURG@203494|Verrucomicrobiae   \n",
       "9           COG1115@1|root,COG1115@2|Bacteria,4NDX7@976|Bacteroidetes,2FMFZ@200643|Bacteroidia   \n",
       "\n",
       "             max_annot_lvl COG_category  \\\n",
       "1  203494|Verrucomicrobiae            S   \n",
       "3  203494|Verrucomicrobiae            S   \n",
       "9               2|Bacteria            E   \n",
       "\n",
       "                                   Description Preferred_name  GOs   EC  \\\n",
       "1  Putative member of DMT superfamily (DUF486)            NaN  NaN  NaN   \n",
       "3                 Uncharacterized ACR, COG1399            NaN  NaN  NaN   \n",
       "9                   amino acid carrier protein           agcS  NaN  NaN   \n",
       "\n",
       "     KEGG_ko KEGG_Pathway KEGG_Module KEGG_Reaction KEGG_rclass    BRITE  \\\n",
       "1  ko:K09922          NaN         NaN           NaN         NaN  ko00000   \n",
       "3  ko:K07040          NaN         NaN           NaN         NaN  ko00000   \n",
       "9  ko:K03310          NaN         NaN           NaN         NaN  ko00000   \n",
       "\n",
       "  KEGG_TC CAZy BiGG_Reaction        PFAMs                               md5  \n",
       "1     NaN  NaN           NaN        DMT_6  2eb9da532c1846443a3d69d11296e378  \n",
       "3     NaN  NaN           NaN       DUF177  3b4c8496b6004b1bef7395f4ea4447da  \n",
       "9  2.A.25  NaN           NaN  Na_Ala_symp  76a490aebd66fcb337dcc3121576ff68  "
      ]
     },
     "execution_count": 158,
     "metadata": {},
     "output_type": "execute_result"
    }
   ],
   "source": [
    "new_df = get_not_nan(root.joinpath(\"akker_hypothetical.emapper.annotations\"), ['KEGG_ko'])\n",
    "print(new_df.shape)\n",
    "new_df.head(3)"
   ]
  },
  {
   "cell_type": "markdown",
   "id": "8298c33b",
   "metadata": {},
   "source": [
    "In this case, **62071** *hypothetical proteins* have been annotated with a proper function according to KEGG"
   ]
  },
  {
   "cell_type": "markdown",
   "id": "5accf607",
   "metadata": {},
   "source": [
    "### Clustering with `mmseqs`\n",
    "\n",
    "As an alternative, this set of hypothetical proteins was clustered with `mmseqs` (see `clustering.sh`) and the representative sequences were passed to `emapper.py`.\n",
    "The time of computation saved by using only the representative sequences isn't that relevant here, but for other software and/or for bigger datasets, this is recommended.\n",
    "\n",
    "In this case, using a stringent clustering, `--cov-mode 0 -c 0.9 --min-seq-id 0.85`, **we obtained `29413` clusters (from more than 260 K sequences).**"
   ]
  },
  {
   "cell_type": "markdown",
   "id": "48c7a83a",
   "metadata": {},
   "source": [
    "#### Build a dictionary where keys are the representatives and the values are the members of each cluster \n",
    "\n",
    "This tsv comes from `mmseqs createtsv`, created by `clustering.sh`."
   ]
  },
  {
   "cell_type": "code",
   "execution_count": 474,
   "id": "b7709cca",
   "metadata": {},
   "outputs": [
    {
     "data": {
      "text/plain": [
       "29413"
      ]
     },
     "execution_count": 474,
     "metadata": {},
     "output_type": "execute_result"
    }
   ],
   "source": [
    "clusters_map = hmmer_root.joinpath(\"akk_hypo_clu.tsv\")\n",
    "with open(clusters_map, 'r') as fh:\n",
    "    lines = [l.strip() for l in fh.readlines()]\n",
    "\n",
    "map_dic_hyp = defaultdict(list)\n",
    "rep = None\n",
    "for gene in lines:\n",
    "    if gene.split('\\t')[0] == rep:\n",
    "        _ , member = gene.split('\\t')\n",
    "        map_dic_hyp[rep].append(member)\n",
    "    else:\n",
    "        rep, member = gene.split('\\t')\n",
    "        map_dic_hyp[rep].append(member)\n",
    "len(map_dic_hyp.keys())"
   ]
  },
  {
   "cell_type": "markdown",
   "id": "004bc614",
   "metadata": {},
   "source": [
    "`akk_hyp_clu90_85_rep.fasta` are the representative sequences (`clustering.sh`)"
   ]
  },
  {
   "cell_type": "code",
   "execution_count": 524,
   "id": "7e4f5d5d",
   "metadata": {},
   "outputs": [
    {
     "name": "stdout",
     "output_type": "stream",
     "text": [
      "29413\n"
     ]
    }
   ],
   "source": [
    "! egrep -c '>' $hmmer_root/akk_hyp_clu90_85_rep.fasta"
   ]
  },
  {
   "cell_type": "markdown",
   "id": "3bcf9565",
   "metadata": {},
   "source": [
    "### Read the `emapper.py` results\n",
    "\n",
    "Here, we get **15K** results compared to the **180K** from using all the sequences. Later, this results will be propagated to all the member sequences (we are using the clusters' representatives)\n",
    "\n",
    "**(`emapper.py` input was `akk_hyp_clu90_85_rep.fasta`)**"
   ]
  },
  {
   "cell_type": "code",
   "execution_count": 526,
   "id": "9a0a5001",
   "metadata": {},
   "outputs": [
    {
     "name": "stdout",
     "output_type": "stream",
     "text": [
      "<class 'pandas.core.frame.DataFrame'>\n",
      "RangeIndex: 15573 entries, 0 to 15572\n",
      "Data columns (total 22 columns):\n",
      " #   Column          Non-Null Count  Dtype  \n",
      "---  ------          --------------  -----  \n",
      " 0   query           15573 non-null  object \n",
      " 1   seed_ortholog   15573 non-null  object \n",
      " 2   evalue          15573 non-null  float64\n",
      " 3   score           15573 non-null  float64\n",
      " 4   eggNOG_OGs      15573 non-null  object \n",
      " 5   max_annot_lvl   15573 non-null  object \n",
      " 6   COG_category    13199 non-null  object \n",
      " 7   Description     13199 non-null  object \n",
      " 8   Preferred_name  2270 non-null   object \n",
      " 9   GOs             1038 non-null   object \n",
      " 10  EC              2377 non-null   object \n",
      " 11  KEGG_ko         5529 non-null   object \n",
      " 12  KEGG_Pathway    2266 non-null   object \n",
      " 13  KEGG_Module     1293 non-null   object \n",
      " 14  KEGG_Reaction   1221 non-null   object \n",
      " 15  KEGG_rclass     1178 non-null   object \n",
      " 16  BRITE           5529 non-null   object \n",
      " 17  KEGG_TC         1139 non-null   object \n",
      " 18  CAZy            492 non-null    object \n",
      " 19  BiGG_Reaction   56 non-null     object \n",
      " 20  PFAMs           12776 non-null  object \n",
      " 21  md5             15573 non-null  object \n",
      "dtypes: float64(2), object(20)\n",
      "memory usage: 2.6+ MB\n"
     ]
    }
   ],
   "source": [
    "df_hyp = eggannot_to_df(root.joinpath(\"akk_hypo_clu90-85.emapper.annotations\"))\n",
    "df_hyp.info()"
   ]
  },
  {
   "cell_type": "markdown",
   "id": "50a8f44b",
   "metadata": {},
   "source": [
    "### Propagate the annotations from the cluster representatives to the members' genes\n",
    "\n",
    "We first select the genes which have a \"KO\" term assigned"
   ]
  },
  {
   "cell_type": "code",
   "execution_count": 531,
   "id": "e1da7628",
   "metadata": {},
   "outputs": [
    {
     "name": "stdout",
     "output_type": "stream",
     "text": [
      "(5529, 22)\n"
     ]
    }
   ],
   "source": [
    "ko_annot_df = get_not_nan(root.joinpath(\"akk_hypo_clu90-85.emapper.annotations\"), ['KEGG_ko'])\n",
    "print(ko_annot_df.shape)"
   ]
  },
  {
   "cell_type": "code",
   "execution_count": 532,
   "id": "167430cf",
   "metadata": {},
   "outputs": [
    {
     "data": {
      "text/plain": [
       "62379"
      ]
     },
     "execution_count": 532,
     "metadata": {},
     "output_type": "execute_result"
    }
   ],
   "source": [
    "all_genes_anot = defaultdict()\n",
    "for i, row in ko_annot_df.iterrows():\n",
    "    for gene in map_dic_hyp[row['query']]:\n",
    "        all_genes_anot[gene] = row['KEGG_ko']\n",
    "len(all_genes_anot)"
   ]
  },
  {
   "cell_type": "code",
   "execution_count": 536,
   "id": "fcfc11df",
   "metadata": {},
   "outputs": [
    {
     "data": {
      "text/plain": [
       "'ko:K02913'"
      ]
     },
     "execution_count": 536,
     "metadata": {},
     "output_type": "execute_result"
    }
   ],
   "source": [
    "# all_genes_anot['FNBKHHGP_00802']\n",
    "all_genes_anot['GPIGBLJI_01391']"
   ]
  },
  {
   "cell_type": "markdown",
   "id": "c0e3f263",
   "metadata": {},
   "source": [
    "**We obtained a slightly higher number of genes annotated using the representative of each cluster, 62379, compared to the 62071 obtained when using the 260 K sequences.**"
   ]
  }
 ],
 "metadata": {
  "kernelspec": {
   "display_name": "Python 3",
   "language": "python",
   "name": "python3"
  },
  "language_info": {
   "codemirror_mode": {
    "name": "ipython",
    "version": 3
   },
   "file_extension": ".py",
   "mimetype": "text/x-python",
   "name": "python",
   "nbconvert_exporter": "python",
   "pygments_lexer": "ipython3",
   "version": "3.8.3"
  }
 },
 "nbformat": 4,
 "nbformat_minor": 5
}
