{
 "cells": [
  {
   "cell_type": "markdown",
   "id": "437ac191",
   "metadata": {},
   "source": [
    "# PEPPAN plots\n",
    "\n",
    "PEPPAN computes the pan-genome of a set of genomes. It needs a folder with the prokka GFFs, producing a  \"combined GFF\", `ST131.PEPPAN.gff` in the example, which in the next step can be used by `PEPPAN_parser` to produce the rarefication tables used to make the plots below:\n",
    "\n",
    "```sh\n",
    "PEPPAN -t 14 -p examples/ST131 -P examples/GCF_000010485.combined.gff.gz examples/*.gff.gz\n",
    "PEPPAN_parser -g examples/ST131.PEPPAN.gff -s examples/PEPPAN_out -t -c -a 95\n",
    "```\n",
    "\n",
    "PEPPAN is not meant to actually obtain the sequences of the genes of the pan-genome (for example uses incomplete genes), It is meant to predict these genes and compute the rarification curves. It was used because It showed better performance than the competition (**Also, it's relatively fast**):\n",
    "\n",
    "<https://genome.cshlp.org/content/30/11/1667.full>\n",
    "\n",
    "\n",
    "Documentation:\n",
    "https://github.com/zheminzhou/PEPPAN/tree/master/docs/source/usage\n",
    "\n"
   ]
  },
  {
   "cell_type": "code",
   "execution_count": 2,
   "id": "c4bc758c",
   "metadata": {},
   "outputs": [],
   "source": [
    "import matplotlib.pyplot as plt\n",
    "import pandas as pd\n",
    "from pathlib import Path\n",
    "import seaborn as sns"
   ]
  },
  {
   "cell_type": "code",
   "execution_count": 3,
   "id": "378fb62b",
   "metadata": {},
   "outputs": [],
   "source": [
    "%matplotlib inline"
   ]
  },
  {
   "cell_type": "markdown",
   "id": "cb016d61",
   "metadata": {},
   "source": [
    "## `PEPPAN_parser` output\n",
    "\n",
    "`PEPPAN_parser` produces 3 tables, one for the *pan-genome*, one for the *core-genome*, and one which have the previous two tables plus more information like the alphas and the number of pan and core genes. In this case, these 3 tables are:\n",
    "\n",
    "- `blau_all.PEPPAN.gene_content_pan-curve.tsv`\n",
    "- `blau_all.PEPPAN.gene_content_core-curve.tsv`\n",
    "-  `blau_all.PEPPAN.gene_content.curve` : The previous two table plus more info\n"
   ]
  },
  {
   "cell_type": "markdown",
   "id": "aac6087c",
   "metadata": {},
   "source": [
    "### Reading the tables"
   ]
  },
  {
   "cell_type": "code",
   "execution_count": 4,
   "id": "353dbca9",
   "metadata": {},
   "outputs": [
    {
     "data": {
      "text/html": [
       "<div>\n",
       "<style scoped>\n",
       "    .dataframe tbody tr th:only-of-type {\n",
       "        vertical-align: middle;\n",
       "    }\n",
       "\n",
       "    .dataframe tbody tr th {\n",
       "        vertical-align: top;\n",
       "    }\n",
       "\n",
       "    .dataframe thead th {\n",
       "        text-align: right;\n",
       "    }\n",
       "</style>\n",
       "<table border=\"1\" class=\"dataframe\">\n",
       "  <thead>\n",
       "    <tr style=\"text-align: right;\">\n",
       "      <th></th>\n",
       "      <th>Median</th>\n",
       "      <th>2.5%</th>\n",
       "      <th>97.5%</th>\n",
       "    </tr>\n",
       "  </thead>\n",
       "  <tbody>\n",
       "    <tr>\n",
       "      <th>0</th>\n",
       "      <td>3450</td>\n",
       "      <td>2922</td>\n",
       "      <td>5317</td>\n",
       "    </tr>\n",
       "    <tr>\n",
       "      <th>1</th>\n",
       "      <td>5176</td>\n",
       "      <td>3988</td>\n",
       "      <td>7479</td>\n",
       "    </tr>\n",
       "    <tr>\n",
       "      <th>2</th>\n",
       "      <td>6534</td>\n",
       "      <td>5092</td>\n",
       "      <td>9028</td>\n",
       "    </tr>\n",
       "  </tbody>\n",
       "</table>\n",
       "</div>"
      ],
      "text/plain": [
       "   Median  2.5%  97.5%\n",
       "0    3450  2922   5317\n",
       "1    5176  3988   7479\n",
       "2    6534  5092   9028"
      ]
     },
     "execution_count": 4,
     "metadata": {},
     "output_type": "execute_result"
    }
   ],
   "source": [
    "root = Path(\"/path_to/files\")\n",
    "fname = \"blau_all.PEPPAN.gene_content_pan-curve.tsv\"\n",
    "pan_df  = pd.read_csv(root.joinpath(fname), sep='\\t', header=0, names=['Median', '2.5%', '97.5%'])\n",
    "pan_df.head(3)"
   ]
  },
  {
   "cell_type": "code",
   "execution_count": 7,
   "id": "6af51ec9",
   "metadata": {},
   "outputs": [
    {
     "data": {
      "text/html": [
       "<div>\n",
       "<style scoped>\n",
       "    .dataframe tbody tr th:only-of-type {\n",
       "        vertical-align: middle;\n",
       "    }\n",
       "\n",
       "    .dataframe tbody tr th {\n",
       "        vertical-align: top;\n",
       "    }\n",
       "\n",
       "    .dataframe thead th {\n",
       "        text-align: right;\n",
       "    }\n",
       "</style>\n",
       "<table border=\"1\" class=\"dataframe\">\n",
       "  <thead>\n",
       "    <tr style=\"text-align: right;\">\n",
       "      <th></th>\n",
       "      <th>Median</th>\n",
       "      <th>2.5%</th>\n",
       "      <th>97.5%</th>\n",
       "    </tr>\n",
       "  </thead>\n",
       "  <tbody>\n",
       "    <tr>\n",
       "      <th>0</th>\n",
       "      <td>3450</td>\n",
       "      <td>2922</td>\n",
       "      <td>5317</td>\n",
       "    </tr>\n",
       "    <tr>\n",
       "      <th>1</th>\n",
       "      <td>1805</td>\n",
       "      <td>1305</td>\n",
       "      <td>2808</td>\n",
       "    </tr>\n",
       "    <tr>\n",
       "      <th>2</th>\n",
       "      <td>1352</td>\n",
       "      <td>1085</td>\n",
       "      <td>2257</td>\n",
       "    </tr>\n",
       "  </tbody>\n",
       "</table>\n",
       "</div>"
      ],
      "text/plain": [
       "   Median  2.5%  97.5%\n",
       "0    3450  2922   5317\n",
       "1    1805  1305   2808\n",
       "2    1352  1085   2257"
      ]
     },
     "execution_count": 7,
     "metadata": {},
     "output_type": "execute_result"
    }
   ],
   "source": [
    "core_fname = \"blau_all.PEPPAN.gene_content_core-curve.tsv\"\n",
    "core_df = pd.read_csv(root.joinpath(core_fname), sep='\\t', header=0, names=['Median', '2.5%', '97.5%'])\n",
    "core_df.head(3)"
   ]
  },
  {
   "cell_type": "code",
   "execution_count": 5,
   "id": "afea1854",
   "metadata": {},
   "outputs": [
    {
     "data": {
      "text/html": [
       "<svg  width=\"110\" height=\"55\"><rect x=\"0\" y=\"0\" width=\"55\" height=\"55\" style=\"fill:#0173b2;stroke-width:2;stroke:rgb(255,255,255)\"/><rect x=\"55\" y=\"0\" width=\"55\" height=\"55\" style=\"fill:#de8f05;stroke-width:2;stroke:rgb(255,255,255)\"/></svg>"
      ],
      "text/plain": [
       "['#0173b2', '#de8f05']"
      ]
     },
     "execution_count": 5,
     "metadata": {},
     "output_type": "execute_result"
    }
   ],
   "source": [
    "colors = sns.color_palette('colorblind', 2).as_hex()\n",
    "colors"
   ]
  },
  {
   "cell_type": "code",
   "execution_count": 9,
   "id": "d2bdcbf5",
   "metadata": {},
   "outputs": [
    {
     "data": {
      "image/png": "[encoded data removed]",
      "text/plain": [
       "<Figure size 504x288 with 2 Axes>"
      ]
     },
     "metadata": {
      "needs_background": "light"
     },
     "output_type": "display_data"
    }
   ],
   "source": [
    "fig, axs = plt.subplots(1, 2, figsize=(7,4))\n",
    "fig.suptitle(\"Number of new genes discovered per genome\", size=14)\n",
    "c = 0\n",
    "# alphas from `blau_all.PEPPAN.gene_content.curve`\n",
    "alphas = [(0.694, 0.007), (0.216, 0.015)]\n",
    "for ax, df in zip(axs.flat, [pan_df, core_df]):\n",
    "    alpha= alphas[c]\n",
    "    line = ax.plot(df['Median'], colors[c])\n",
    "    ax.fill_between(x=df.index, y1=df['2.5%'], y2=df['97.5%'], alpha=0.2, color=colors[c])\n",
    "    ax.legend(line,[rf'$\\alpha = {alpha[0]} \\pm {alpha[1]}$'], \n",
    "               framealpha=0.8, prop={'size':12}, ncol=2)\n",
    "    ax.set_xlabel(\"Number of genomes\", size=14)\n",
    "    if c == 0:\n",
    "        ax.set_ylabel('Number of genes', size=14)\n",
    "    c += 1\n",
    "# plt.savefig('alphas.svg')\n",
    "# plt.savefig('alphas.png')\n"
   ]
  },
  {
   "cell_type": "code",
   "execution_count": null,
   "id": "c463690e",
   "metadata": {},
   "outputs": [],
   "source": []
  }
 ],
 "metadata": {
  "kernelspec": {
   "display_name": "Python 3",
   "language": "python",
   "name": "python3"
  },
  "language_info": {
   "codemirror_mode": {
    "name": "ipython",
    "version": 3
   },
   "file_extension": ".py",
   "mimetype": "text/x-python",
   "name": "python",
   "nbconvert_exporter": "python",
   "pygments_lexer": "ipython3",
   "version": "3.8.3"
  }
 },
 "nbformat": 4,
 "nbformat_minor": 5
}
